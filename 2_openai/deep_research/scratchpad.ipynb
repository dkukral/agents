{
 "cells": [
  {
   "cell_type": "code",
   "execution_count": null,
   "id": "d675475a",
   "metadata": {},
   "outputs": [],
   "source": [
    "from agents import Agent, WebSearchTool, ModelSettings\n",
    "\n",
    "INSTRUCTIONS = (\n",
    "    \"You are a research assistant. Given a search term, you search the web for that term and \"\n",
    "    \"produce a concise summary of the results. The summary must 2-3 paragraphs and less than 300 \"\n",
    "    \"words. Capture the main points. Write succintly, no need to have complete sentences or good \"\n",
    "    \"grammar. This will be consumed by someone synthesizing a report, so its vital you capture the \"\n",
    "    \"essence and ignore any fluff. Do not include any additional commentary other than the summary itself.\"\n",
    ")\n",
    "\n",
    "search_agent = Agent(\n",
    "    name=\"Search agent\",\n",
    "    instructions=INSTRUCTIONS,\n",
    "    tools=[WebSearchTool(search_context_size=\"low\")],\n",
    "    model=\"gpt-4o-mini\",\n",
    "    model_settings=ModelSettings(tool_choice=\"required\"),\n",
    ")\n",
    "\n"
   ]
  },
  {
   "cell_type": "code",
   "execution_count": null,
   "id": "ca39e122",
   "metadata": {},
   "outputs": [],
   "source": [
    "search_agent_tool = search_agent.as_tool(\n",
    "\ttool_name=\"search_agent\", \n",
    "\ttool_description=\"A research assistant that searches the web and provides concise summaries\"\n",
    ")\n",
    "\n",
    "search_agent_tool"
   ]
  }
 ],
 "metadata": {
  "kernelspec": {
   "display_name": "agents",
   "language": "python",
   "name": "python3"
  },
  "language_info": {
   "codemirror_mode": {
    "name": "ipython",
    "version": 3
   },
   "file_extension": ".py",
   "mimetype": "text/x-python",
   "name": "python",
   "nbconvert_exporter": "python",
   "pygments_lexer": "ipython3",
   "version": "3.12.12"
  }
 },
 "nbformat": 4,
 "nbformat_minor": 5
}
